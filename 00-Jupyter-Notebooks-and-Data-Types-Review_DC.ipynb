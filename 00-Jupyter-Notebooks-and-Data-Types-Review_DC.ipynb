{
 "cells": [
  {
   "cell_type": "markdown",
   "metadata": {},
   "source": [
    "# Day 1 Morning Review"
   ]
  },
  {
   "cell_type": "markdown",
   "metadata": {},
   "source": [
    "## Intro to Jupyter Notebooks"
   ]
  },
  {
   "cell_type": "markdown",
   "metadata": {
    "ExecuteTime": {
     "end_time": "2018-04-23T16:09:14.473082Z",
     "start_time": "2018-04-23T16:09:14.453499Z"
    }
   },
   "source": [
    "There are different types of cells. This is a markdown cell! Markdown is just a text formatting \"language\" that we use to make our notebooks easy to read. The README files in each repo are also markdown files."
   ]
  },
  {
   "cell_type": "code",
   "execution_count": 1,
   "metadata": {
    "ExecuteTime": {
     "end_time": "2018-04-23T19:11:05.548026Z",
     "start_time": "2018-04-23T19:11:05.544016Z"
    }
   },
   "outputs": [],
   "source": [
    "# This is a code cell! In particular, this is a comment."
   ]
  },
  {
   "cell_type": "markdown",
   "metadata": {},
   "source": [
    "To change the type of a cell, use the dropdown menu above. Or, use `Esc` to move into \"command mode,\" where the cell outline is blue rather than green. In command mode, `y` makes the cell a code cell and `m` makes the cell a markdown cell. \n",
    "\n",
    "You can do all sorts of things in command mode. You can select multiple cells with `Shift` and then use `Shift + m` to merge all of those cells."
   ]
  },
  {
   "cell_type": "markdown",
   "metadata": {},
   "source": [
    "I recommend playing around with the buttons at the top of the notebook. Figure out what they all do and, if you like, commit to memory some keyboard shortcuts for them.\n",
    "\n",
    "Above the buttons, you see a series of tabs (File, Edit, View, etc.) The important one to understand is the Kernel tab. In it, you can restart your Python kernel, clear the output, etc. You should be able to \"Restart and Run All\" on your notebook to ensure everything is running as you expect it to you when you run it from top to bottom."
   ]
  },
  {
   "cell_type": "markdown",
   "metadata": {
    "ExecuteTime": {
     "end_time": "2018-04-23T15:32:50.083338Z",
     "start_time": "2018-04-23T15:32:50.075402Z"
    }
   },
   "source": [
    "## Data Types Review"
   ]
  },
  {
   "cell_type": "markdown",
   "metadata": {},
   "source": [
    "### Numbers"
   ]
  },
  {
   "cell_type": "markdown",
   "metadata": {},
   "source": [
    "There are basically only two that you need to worry about (for now!):"
   ]
  },
  {
   "cell_type": "code",
   "execution_count": 2,
   "metadata": {
    "ExecuteTime": {
     "end_time": "2018-04-23T19:11:05.556048Z",
     "start_time": "2018-04-23T19:11:05.552037Z"
    }
   },
   "outputs": [],
   "source": [
    "# Integers"
   ]
  },
  {
   "cell_type": "code",
   "execution_count": 3,
   "metadata": {
    "ExecuteTime": {
     "end_time": "2018-04-23T19:11:05.579109Z",
     "start_time": "2018-04-23T19:11:05.559057Z"
    }
   },
   "outputs": [],
   "source": [
    "type(5) == int"
   ]
  },
  {
   "cell_type": "code",
   "execution_count": 4,
   "metadata": {
    "ExecuteTime": {
     "end_time": "2018-04-23T19:11:05.590139Z",
     "start_time": "2018-04-23T19:11:05.583121Z"
    }
   },
   "outputs": [],
   "source": [
    "# Floats\n",
    "# Check: why are they called 'floats'?\n",
    "\n",
    "type(5 / 3) == int # is not an integer"
   ]
  },
  {
   "cell_type": "code",
   "execution_count": 5,
   "metadata": {
    "ExecuteTime": {
     "end_time": "2018-04-23T19:11:05.609190Z",
     "start_time": "2018-04-23T19:11:05.594148Z"
    }
   },
   "outputs": [],
   "source": [
    "type(5 / 3)"
   ]
  },
  {
   "cell_type": "code",
   "execution_count": 6,
   "metadata": {
    "ExecuteTime": {
     "end_time": "2018-04-23T19:11:05.618214Z",
     "start_time": "2018-04-23T19:11:05.612198Z"
    }
   },
   "outputs": [
    {
     "data": {
      "text/plain": [
       "True"
      ]
     },
     "execution_count": 6,
     "metadata": {},
     "output_type": "execute_result"
    }
   ],
   "source": [
    "type('5') != int # but this is just a string"
   ]
  },
  {
   "cell_type": "markdown",
   "metadata": {
    "ExecuteTime": {
     "end_time": "2018-04-23T15:33:29.655766Z",
     "start_time": "2018-04-23T15:33:29.651035Z"
    }
   },
   "source": [
    "### Sequential Data Types"
   ]
  },
  {
   "cell_type": "markdown",
   "metadata": {},
   "source": [
    "Why are they 'sequential'? Because they have _elements_! This means they can be *indexed* and *sliced*. This also means they can be _iterated upon_. They are _iterables_. We'll discuss iterables in greater depth when we discuss control flow and list comprehensions. Note: not all iterables are sequential types!"
   ]
  },
  {
   "cell_type": "markdown",
   "metadata": {},
   "source": [
    "#### Tuples\n",
    "\n",
    "Tuples are the most 'basic' sequential type. They are **immutable** and **ordered**, and there's not too much you can do with them. But they're the 'default' data structure when there is more than one element:"
   ]
  },
  {
   "cell_type": "code",
   "execution_count": 7,
   "metadata": {
    "ExecuteTime": {
     "end_time": "2018-04-23T19:11:05.626235Z",
     "start_time": "2018-04-23T19:11:05.621221Z"
    }
   },
   "outputs": [],
   "source": [
    "x = 1\n",
    "y = 2\n",
    "z = x,y"
   ]
  },
  {
   "cell_type": "markdown",
   "metadata": {},
   "source": [
    "`x,y` is the same as `(x,y)`:"
   ]
  },
  {
   "cell_type": "code",
   "execution_count": 8,
   "metadata": {
    "ExecuteTime": {
     "end_time": "2018-04-23T19:11:05.638269Z",
     "start_time": "2018-04-23T19:11:05.629243Z"
    }
   },
   "outputs": [
    {
     "data": {
      "text/plain": [
       "True"
      ]
     },
     "execution_count": 8,
     "metadata": {},
     "output_type": "execute_result"
    }
   ],
   "source": [
    "z == (x,y) "
   ]
  },
  {
   "cell_type": "markdown",
   "metadata": {},
   "source": [
    "But we typically think of tuples coming to us in parentheses."
   ]
  },
  {
   "cell_type": "markdown",
   "metadata": {},
   "source": [
    "#### Lists\n",
    "\n",
    "Lists are the 'go to' sequential type / data structure / object in native Python. Like tuples, they contain **ordered** heterogenous elements. Unlike tuples, they are **mutable**, which means we can do all sorts of things to change them, like so:"
   ]
  },
  {
   "cell_type": "code",
   "execution_count": 9,
   "metadata": {
    "ExecuteTime": {
     "end_time": "2018-04-23T19:11:05.650299Z",
     "start_time": "2018-04-23T19:11:05.641274Z"
    }
   },
   "outputs": [
    {
     "data": {
      "text/plain": [
       "[1, 2, 3, 4, 3, 4]"
      ]
     },
     "execution_count": 9,
     "metadata": {},
     "output_type": "execute_result"
    }
   ],
   "source": [
    "# Lists come in square brackets:\n",
    "x = [1,2,3,4,3]\n",
    "\n",
    "# Because they are mutable, we can do stuff with them:\n",
    "x.append(4)\n",
    "x"
   ]
  },
  {
   "cell_type": "markdown",
   "metadata": {},
   "source": [
    "Another example of a list method is sort. (A method is just a function that is defined for objects of a certain type. Instead of calling it directly, we call it _on_ an object, like so: `object.method(arguments)`.)"
   ]
  },
  {
   "cell_type": "code",
   "execution_count": 10,
   "metadata": {
    "ExecuteTime": {
     "end_time": "2018-04-23T19:11:05.660326Z",
     "start_time": "2018-04-23T19:11:05.653306Z"
    }
   },
   "outputs": [
    {
     "data": {
      "text/plain": [
       "[4, 4, 3, 3, 2, 1]"
      ]
     },
     "execution_count": 10,
     "metadata": {},
     "output_type": "execute_result"
    }
   ],
   "source": [
    "x.sort(reverse=True) # An inplace operation\n",
    "x"
   ]
  },
  {
   "cell_type": "markdown",
   "metadata": {},
   "source": [
    "#### Sets\n",
    "\n",
    "Sets are inspired by the mathematical notion of a set. They are **mutable** but **unordered** collections of **unique** items. They come in `{}` most of the time. (Note: you can create sets with `{}` _or_ with the `set` function. Likewise, there are `list`, `tuple`, and `dict` functions.)"
   ]
  },
  {
   "cell_type": "code",
   "execution_count": 11,
   "metadata": {
    "ExecuteTime": {
     "end_time": "2018-04-23T19:11:05.671355Z",
     "start_time": "2018-04-23T19:11:05.665339Z"
    }
   },
   "outputs": [
    {
     "data": {
      "text/plain": [
       "{1, 2, 3, 4}"
      ]
     },
     "execution_count": 11,
     "metadata": {},
     "output_type": "execute_result"
    }
   ],
   "source": [
    "y = set(x)\n",
    "y # Notice that duplicates were removed"
   ]
  },
  {
   "cell_type": "code",
   "execution_count": 12,
   "metadata": {
    "ExecuteTime": {
     "end_time": "2018-04-23T19:11:05.678374Z",
     "start_time": "2018-04-23T19:11:05.674363Z"
    }
   },
   "outputs": [],
   "source": [
    "z = {2, 7, 5}"
   ]
  },
  {
   "cell_type": "markdown",
   "metadata": {},
   "source": [
    "The methods that apply to sets come from mathematical set theory and probability:"
   ]
  },
  {
   "cell_type": "code",
   "execution_count": 13,
   "metadata": {
    "ExecuteTime": {
     "end_time": "2018-04-23T19:11:05.689403Z",
     "start_time": "2018-04-23T19:11:05.681382Z"
    }
   },
   "outputs": [
    {
     "data": {
      "text/plain": [
       "{2}"
      ]
     },
     "execution_count": 13,
     "metadata": {},
     "output_type": "execute_result"
    }
   ],
   "source": [
    "y.intersection(z) # The elements of y that are also in z"
   ]
  },
  {
   "cell_type": "markdown",
   "metadata": {},
   "source": [
    "#### Dictionaries\n",
    "\n",
    "The best way to understand dictionaries it to think of how a regular language dictionary works. Instead of looking up elements according to their location in a certain order, you look up elements according to a certain 'key,' which may be any immutable object. \n",
    "\n",
    "Dictionaries are 'semi-ordered' collection of **key, value** pairs. I say 'semi-ordered' because Python recently implemented a kind of order for dictionaries. Nevertheless, Python throws an error if you try and access the 'first' value in a dictionary, because that is not how they are meant to be used!"
   ]
  },
  {
   "cell_type": "code",
   "execution_count": 14,
   "metadata": {
    "ExecuteTime": {
     "end_time": "2018-04-23T19:11:05.697424Z",
     "start_time": "2018-04-23T19:11:05.692412Z"
    }
   },
   "outputs": [],
   "source": [
    "jimmies = {'Jimmy':{'Last Name':'Woehrle'},\n",
    " 'James':{'Last Name':'Linek','GHE Username':'Something'}}"
   ]
  },
  {
   "cell_type": "markdown",
   "metadata": {},
   "source": [
    "`jimmies` is a dictionary where each value for its two keys is itself a dictionary."
   ]
  },
  {
   "cell_type": "markdown",
   "metadata": {
    "ExecuteTime": {
     "end_time": "2018-04-23T15:34:47.291972Z",
     "start_time": "2018-04-23T15:34:47.284184Z"
    }
   },
   "source": [
    "### An important distinction:"
   ]
  },
  {
   "cell_type": "markdown",
   "metadata": {},
   "source": [
    "You've noticed that sequential data types can be _nested_. This means that we need to respect the distinction between the type of an object and the type of the elements that object contains. \n",
    "\n",
    "An example:"
   ]
  },
  {
   "cell_type": "code",
   "execution_count": 15,
   "metadata": {
    "ExecuteTime": {
     "end_time": "2018-04-23T19:11:05.708454Z",
     "start_time": "2018-04-23T19:11:05.701435Z"
    }
   },
   "outputs": [
    {
     "data": {
      "text/plain": [
       "int"
      ]
     },
     "execution_count": 15,
     "metadata": {},
     "output_type": "execute_result"
    }
   ],
   "source": [
    "# What type is x?\n",
    "x = 1\n",
    "type(x)"
   ]
  },
  {
   "cell_type": "code",
   "execution_count": 16,
   "metadata": {
    "ExecuteTime": {
     "end_time": "2018-04-23T19:11:05.719482Z",
     "start_time": "2018-04-23T19:11:05.712464Z"
    }
   },
   "outputs": [
    {
     "data": {
      "text/plain": [
       "list"
      ]
     },
     "execution_count": 16,
     "metadata": {},
     "output_type": "execute_result"
    }
   ],
   "source": [
    "# What type is y?\n",
    "y = [1]\n",
    "type(y)"
   ]
  },
  {
   "cell_type": "markdown",
   "metadata": {},
   "source": [
    "This distinction becomes very important when we begin working with Numpy and Pandas. For example, we might be dealing with a column of numbers. In Pandas terminology, the column's type is a `Series`, but the type (`dtype`) of the elements in that column is `int`."
   ]
  },
  {
   "cell_type": "markdown",
   "metadata": {
    "ExecuteTime": {
     "end_time": "2018-04-23T15:42:20.366687Z",
     "start_time": "2018-04-23T15:42:20.357801Z"
    }
   },
   "source": [
    "### A Numpy preview:\n",
    "\n",
    "Numpy (short for 'numerical python') gives us access to _new_ data types that didn't come with native Python."
   ]
  },
  {
   "cell_type": "code",
   "execution_count": 17,
   "metadata": {
    "ExecuteTime": {
     "end_time": "2018-04-23T19:11:06.084454Z",
     "start_time": "2018-04-23T19:11:05.722490Z"
    }
   },
   "outputs": [],
   "source": [
    "import numpy as np"
   ]
  },
  {
   "cell_type": "code",
   "execution_count": 18,
   "metadata": {
    "ExecuteTime": {
     "end_time": "2018-04-23T19:11:06.097489Z",
     "start_time": "2018-04-23T19:11:06.088465Z"
    }
   },
   "outputs": [
    {
     "data": {
      "text/plain": [
       "int"
      ]
     },
     "execution_count": 18,
     "metadata": {},
     "output_type": "execute_result"
    }
   ],
   "source": [
    "x = 1\n",
    "type(x)"
   ]
  },
  {
   "cell_type": "code",
   "execution_count": 19,
   "metadata": {
    "ExecuteTime": {
     "end_time": "2018-04-23T19:11:06.111527Z",
     "start_time": "2018-04-23T19:11:06.101498Z"
    }
   },
   "outputs": [
    {
     "data": {
      "text/plain": [
       "numpy.int64"
      ]
     },
     "execution_count": 19,
     "metadata": {},
     "output_type": "execute_result"
    }
   ],
   "source": [
    "x = np.int64(x)\n",
    "type(x)"
   ]
  },
  {
   "cell_type": "markdown",
   "metadata": {
    "ExecuteTime": {
     "end_time": "2018-04-23T15:44:15.096095Z",
     "start_time": "2018-04-23T15:44:15.091677Z"
    }
   },
   "source": [
    "## Indexing and Slicing Sequential Data Types"
   ]
  },
  {
   "cell_type": "markdown",
   "metadata": {},
   "source": [
    "Everywhere in Python, the square brackets (`[]`) are used to *index* and to *slice* things. You'll see them all the time when you subset your data.\n",
    "\n",
    "But it is important to know how to do basic indexing and slice on the basic Python sequential data types."
   ]
  },
  {
   "cell_type": "markdown",
   "metadata": {},
   "source": [
    "#### Dictionaries"
   ]
  },
  {
   "cell_type": "code",
   "execution_count": 20,
   "metadata": {
    "ExecuteTime": {
     "end_time": "2018-04-23T19:11:06.124560Z",
     "start_time": "2018-04-23T19:11:06.115537Z"
    }
   },
   "outputs": [
    {
     "data": {
      "text/plain": [
       "{'GHE Username': 'Something', 'Last Name': 'Linek'}"
      ]
     },
     "execution_count": 20,
     "metadata": {},
     "output_type": "execute_result"
    }
   ],
   "source": [
    "jimmies['James'] # Look up the key 'James' in the dictionary 'jimmies'"
   ]
  },
  {
   "cell_type": "code",
   "execution_count": 21,
   "metadata": {
    "ExecuteTime": {
     "end_time": "2018-04-23T19:11:06.134587Z",
     "start_time": "2018-04-23T19:11:06.127569Z"
    }
   },
   "outputs": [
    {
     "data": {
      "text/plain": [
       "'Linek'"
      ]
     },
     "execution_count": 21,
     "metadata": {},
     "output_type": "execute_result"
    }
   ],
   "source": [
    "jimmies['James']['Last Name'] # Do one further look up to find James' Last Name"
   ]
  },
  {
   "cell_type": "code",
   "execution_count": 22,
   "metadata": {
    "ExecuteTime": {
     "end_time": "2018-04-23T19:11:06.341136Z",
     "start_time": "2018-04-23T19:11:06.137594Z"
    }
   },
   "outputs": [
    {
     "ename": "KeyError",
     "evalue": "'Jamie'",
     "output_type": "error",
     "traceback": [
      "\u001b[1;31m---------------------------------------------------------------------------\u001b[0m",
      "\u001b[1;31mKeyError\u001b[0m                                  Traceback (most recent call last)",
      "\u001b[1;32m<ipython-input-22-15316b9dae44>\u001b[0m in \u001b[0;36m<module>\u001b[1;34m()\u001b[0m\n\u001b[1;32m----> 1\u001b[1;33m \u001b[0mjimmies\u001b[0m\u001b[1;33m[\u001b[0m\u001b[1;34m'Jamie'\u001b[0m\u001b[1;33m]\u001b[0m \u001b[1;31m# There is no key called 'Jamie'!\u001b[0m\u001b[1;33m\u001b[0m\u001b[0m\n\u001b[0m",
      "\u001b[1;31mKeyError\u001b[0m: 'Jamie'"
     ]
    }
   ],
   "source": [
    "jimmies['Jamie'] # There is no key called 'Jamie'!"
   ]
  },
  {
   "cell_type": "code",
   "execution_count": 23,
   "metadata": {
    "ExecuteTime": {
     "end_time": "2018-04-23T19:11:46.515808Z",
     "start_time": "2018-04-23T19:11:46.511831Z"
    }
   },
   "outputs": [],
   "source": [
    "# .get is a safe way of looking up a key if you're not sure it exists\n",
    "jimmies.get('Jamie') # It returns nothing:"
   ]
  },
  {
   "cell_type": "markdown",
   "metadata": {},
   "source": [
    "#### Lists"
   ]
  },
  {
   "cell_type": "code",
   "execution_count": 24,
   "metadata": {
    "ExecuteTime": {
     "end_time": "2018-04-23T19:11:47.262978Z",
     "start_time": "2018-04-23T19:11:47.258992Z"
    }
   },
   "outputs": [],
   "source": [
    "x = [1,2,3,4,5,5,6]"
   ]
  },
  {
   "cell_type": "markdown",
   "metadata": {},
   "source": [
    "To access the element of `x` corresponding to the index `i`, use `x[i]`:"
   ]
  },
  {
   "cell_type": "code",
   "execution_count": 25,
   "metadata": {
    "ExecuteTime": {
     "end_time": "2018-04-23T19:11:47.727864Z",
     "start_time": "2018-04-23T19:11:47.722849Z"
    }
   },
   "outputs": [
    {
     "data": {
      "text/plain": [
       "1"
      ]
     },
     "execution_count": 25,
     "metadata": {},
     "output_type": "execute_result"
    }
   ],
   "source": [
    "x[0] # Python is zero-indexed"
   ]
  },
  {
   "cell_type": "markdown",
   "metadata": {},
   "source": [
    "The square brackets have this syntax: `[start:stop:step]`. To go backwards, specify a negative `step`."
   ]
  },
  {
   "cell_type": "code",
   "execution_count": 26,
   "metadata": {
    "ExecuteTime": {
     "end_time": "2018-04-23T19:11:48.188577Z",
     "start_time": "2018-04-23T19:11:48.182564Z"
    }
   },
   "outputs": [
    {
     "data": {
      "text/plain": [
       "6"
      ]
     },
     "execution_count": 26,
     "metadata": {},
     "output_type": "execute_result"
    }
   ],
   "source": [
    "x[-1] # If no colons are used, 'start' is assumed. Return the last element."
   ]
  },
  {
   "cell_type": "code",
   "execution_count": null,
   "metadata": {
    "ExecuteTime": {
     "end_time": "2018-04-23T19:11:48.321936Z",
     "start_time": "2018-04-23T19:11:48.315Z"
    }
   },
   "outputs": [],
   "source": [
    "x[:3] # Start is unspecified, so we start at the beginning. 'Stop' is exclusive!"
   ]
  },
  {
   "cell_type": "code",
   "execution_count": null,
   "metadata": {
    "ExecuteTime": {
     "end_time": "2018-04-23T19:11:48.457109Z",
     "start_time": "2018-04-23T19:11:48.456Z"
    }
   },
   "outputs": [],
   "source": [
    "x[::2] # Go from the beginning to the end by twos."
   ]
  },
  {
   "cell_type": "code",
   "execution_count": 27,
   "metadata": {
    "ExecuteTime": {
     "end_time": "2018-04-23T19:11:48.788766Z",
     "start_time": "2018-04-23T19:11:48.781750Z"
    }
   },
   "outputs": [
    {
     "data": {
      "text/plain": [
       "[5, 5, 4]"
      ]
     },
     "execution_count": 27,
     "metadata": {},
     "output_type": "execute_result"
    }
   ],
   "source": [
    "x[5:2:-1] # Go backwards from index 5 to index 3 (because stop is exclusive)"
   ]
  },
  {
   "cell_type": "markdown",
   "metadata": {},
   "source": [
    "#### The same bracket slicing syntax is used elsewhere:"
   ]
  },
  {
   "cell_type": "code",
   "execution_count": 28,
   "metadata": {
    "ExecuteTime": {
     "end_time": "2018-04-23T19:11:49.407101Z",
     "start_time": "2018-04-23T19:11:49.403091Z"
    }
   },
   "outputs": [],
   "source": [
    "string = 'data science is boring' \n",
    "# Remember that strings are sequential data types!"
   ]
  },
  {
   "cell_type": "code",
   "execution_count": null,
   "metadata": {
    "ExecuteTime": {
     "end_time": "2018-04-23T19:11:49.545473Z",
     "start_time": "2018-04-23T19:11:49.539Z"
    }
   },
   "outputs": [],
   "source": [
    "string[::-1] # String is reversed"
   ]
  },
  {
   "cell_type": "code",
   "execution_count": 29,
   "metadata": {
    "ExecuteTime": {
     "end_time": "2018-04-23T19:11:49.793143Z",
     "start_time": "2018-04-23T19:11:49.787127Z"
    }
   },
   "outputs": [
    {
     "data": {
      "text/plain": [
       "['data', 'science', 'is', 'boring']"
      ]
     },
     "execution_count": 29,
     "metadata": {},
     "output_type": "execute_result"
    }
   ],
   "source": [
    "# To split the string on whitespace, btw:\n",
    "string.split(sep=' ') # sep is actually the default though"
   ]
  },
  {
   "cell_type": "code",
   "execution_count": 30,
   "metadata": {
    "ExecuteTime": {
     "end_time": "2018-04-23T19:11:50.052835Z",
     "start_time": "2018-04-23T19:11:50.043813Z"
    }
   },
   "outputs": [
    {
     "data": {
      "text/plain": [
       "(5, 4, 3, 2, 1)"
      ]
     },
     "execution_count": 30,
     "metadata": {},
     "output_type": "execute_result"
    }
   ],
   "source": [
    "y = (1, 2, 3, 4, 5)\n",
    "y[::-1] \n",
    "# Show the reversed tuple. Note that the tuple itself is not reveresed. Tuples are immutable!"
   ]
  },
  {
   "cell_type": "markdown",
   "metadata": {},
   "source": [
    "#### An addendum:"
   ]
  },
  {
   "cell_type": "markdown",
   "metadata": {},
   "source": [
    "This is **multiple variable assignment**, specifically **tuple unpacking**:"
   ]
  },
  {
   "cell_type": "code",
   "execution_count": 31,
   "metadata": {
    "ExecuteTime": {
     "end_time": "2018-04-23T19:11:51.214521Z",
     "start_time": "2018-04-23T19:11:51.203486Z"
    }
   },
   "outputs": [
    {
     "name": "stdout",
     "output_type": "stream",
     "text": [
      "a\n",
      "b\n"
     ]
    }
   ],
   "source": [
    "a, b, c = ('a','b','c')\n",
    "print(a)\n",
    "print(b)"
   ]
  }
 ],
 "metadata": {
  "kernelspec": {
   "display_name": "Python [conda env:Anaconda3]",
   "language": "python",
   "name": "conda-env-Anaconda3-py"
  },
  "language_info": {
   "codemirror_mode": {
    "name": "ipython",
    "version": 3
   },
   "file_extension": ".py",
   "mimetype": "text/x-python",
   "name": "python",
   "nbconvert_exporter": "python",
   "pygments_lexer": "ipython3",
   "version": "3.6.3"
  },
  "toc": {
   "nav_menu": {},
   "number_sections": true,
   "sideBar": true,
   "skip_h1_title": false,
   "title_cell": "Table of Contents",
   "title_sidebar": "Contents",
   "toc_cell": false,
   "toc_position": {},
   "toc_section_display": true,
   "toc_window_display": false
  },
  "varInspector": {
   "cols": {
    "lenName": 16,
    "lenType": 16,
    "lenVar": 40
   },
   "kernels_config": {
    "python": {
     "delete_cmd_postfix": "",
     "delete_cmd_prefix": "del ",
     "library": "var_list.py",
     "varRefreshCmd": "print(var_dic_list())"
    },
    "r": {
     "delete_cmd_postfix": ") ",
     "delete_cmd_prefix": "rm(",
     "library": "var_list.r",
     "varRefreshCmd": "cat(var_dic_list()) "
    }
   },
   "types_to_exclude": [
    "module",
    "function",
    "builtin_function_or_method",
    "instance",
    "_Feature"
   ],
   "window_display": false
  }
 },
 "nbformat": 4,
 "nbformat_minor": 2
}
