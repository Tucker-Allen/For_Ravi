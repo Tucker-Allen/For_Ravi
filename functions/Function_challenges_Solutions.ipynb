{
 "cells": [
  {
   "cell_type": "markdown",
   "metadata": {},
   "source": [
    "## Python Coding Exercises"
   ]
  },
  {
   "cell_type": "markdown",
   "metadata": {},
   "source": [
    "*Author* Tim Book, *General Assembly DC*\n",
    "\n",
    "Please fork this repo to your personal page. Solve the exercises in the blank cells provided.\n",
    "\n",
    "The following questions are questions of the type you might see in a technical interview. I have done my best to order them easiest-to-hardest, but your mileage may vary.\n",
    "\n",
    "Please note that there may be several ways to approach each challenge. Many of these problems can be found online. If you simply copy and paste things you find online, two things will occur:\n",
    "\n",
    "- You will have missed the point! The types of problems here are meant to display you have a firm grasp on the fundamentals of computer programming. Some of these problems are hard. You're meant to struggle!"
   ]
  },
  {
   "cell_type": "markdown",
   "metadata": {},
   "source": [
    "## Problem 1: FizzBuzz\n",
    "\n",
    "This is by far the most famous (and cliche) interview question.\n",
    "\n",
    "Write a function that loops through the numbers 1 to 100. If the number is divisible by 3, print \"Fizz\". If it's divisible by 5, print \"Buzz\". If it's divisible by *both* 3 and 5, instead print \"FizzBuzz\". If it's divisible by neither 3 nor 5, simply print the number."
   ]
  },
  {
   "cell_type": "code",
   "execution_count": 1,
   "metadata": {},
   "outputs": [
    {
     "name": "stdout",
     "output_type": "stream",
     "text": [
      "1\n",
      "2\n",
      "Fizz\n",
      "4\n",
      "Buzz\n",
      "Fizz\n",
      "7\n",
      "8\n",
      "Fizz\n",
      "Buzz\n",
      "11\n",
      "Fizz\n",
      "13\n",
      "14\n",
      "FizzBuzz\n",
      "16\n",
      "17\n",
      "Fizz\n",
      "19\n",
      "Buzz\n",
      "Fizz\n",
      "22\n",
      "23\n",
      "Fizz\n",
      "Buzz\n",
      "26\n",
      "Fizz\n",
      "28\n",
      "29\n",
      "FizzBuzz\n",
      "31\n",
      "32\n",
      "Fizz\n",
      "34\n",
      "Buzz\n",
      "Fizz\n",
      "37\n",
      "38\n",
      "Fizz\n",
      "Buzz\n",
      "41\n",
      "Fizz\n",
      "43\n",
      "44\n",
      "FizzBuzz\n",
      "46\n",
      "47\n",
      "Fizz\n",
      "49\n",
      "Buzz\n",
      "Fizz\n",
      "52\n",
      "53\n",
      "Fizz\n",
      "Buzz\n",
      "56\n",
      "Fizz\n",
      "58\n",
      "59\n",
      "FizzBuzz\n",
      "61\n",
      "62\n",
      "Fizz\n",
      "64\n",
      "Buzz\n",
      "Fizz\n",
      "67\n",
      "68\n",
      "Fizz\n",
      "Buzz\n",
      "71\n",
      "Fizz\n",
      "73\n",
      "74\n",
      "FizzBuzz\n",
      "76\n",
      "77\n",
      "Fizz\n",
      "79\n",
      "Buzz\n",
      "Fizz\n",
      "82\n",
      "83\n",
      "Fizz\n",
      "Buzz\n",
      "86\n",
      "Fizz\n",
      "88\n",
      "89\n",
      "FizzBuzz\n",
      "91\n",
      "92\n",
      "Fizz\n",
      "94\n",
      "Buzz\n",
      "Fizz\n",
      "97\n",
      "98\n",
      "Fizz\n",
      "Buzz\n"
     ]
    }
   ],
   "source": [
    "def fizzbuzz():\n",
    "    \"\"\"Loop through integers 1 through 100 and print:\n",
    "        - \"Fizz\" if the integer is divisible by 3\n",
    "        - \"Buzz\" if the integer is divisivle by 5\n",
    "        - \"FizzBuzz\" if the integer is divisible by both 3 and 5\n",
    "        - the integer itself in the other cases\n",
    "    \"\"\"\n",
    "    \n",
    "    # loop from 1 to 100 inclusive\n",
    "    for i in range(1, 101):\n",
    "\n",
    "        # if divisible by both 3 and 5\n",
    "        # if i is divisible by n, then \"not i % n\" returns true \n",
    "        if not i % 3 and not i % 5:\n",
    "            print(\"FizzBuzz\")\n",
    "            \n",
    "        # if divisible by only 3\n",
    "        elif not i % 3:\n",
    "            print(\"Fizz\")\n",
    "\n",
    "        # if divisible by only 5\n",
    "        elif not i % 5:\n",
    "            print(\"Buzz\")\n",
    "\n",
    "        # if not divisible by either 3 or 5\n",
    "        else:\n",
    "            print(i)\n",
    "fizzbuzz()"
   ]
  },
  {
   "cell_type": "markdown",
   "metadata": {},
   "source": [
    "## Problem 2: Leet Speak\n",
    "\n",
    "Write a function called to_leet_speak that converts any string of characters to \"leet speak.\" \"Leet\" is a made-up internet language in which you replace characters with symbols that look like those characters.\n",
    "\n",
    "Example: to_leet_speak(\"i am elite\") --> \"! @M 31!73\"\n",
    "\n",
    "The the English-to-leet dictionary is given to you below. You should use this in your soltuion. Your solution should case-insensitive."
   ]
  },
  {
   "cell_type": "code",
   "execution_count": 3,
   "metadata": {},
   "outputs": [],
   "source": [
    "leet_dict = {'A' : '@', 'B' : '8', 'C' : '(', 'D' : 'D', 'E' : '3',\n",
    "             'F' : 'F', 'G' : '6', 'H' : '#', 'I' : '!', 'J' : 'J',\n",
    "             'K' : 'K', 'L' : '1', 'M' : 'M', 'N' : 'N', 'O' : '0',\n",
    "             'P' : 'P', 'Q' : 'Q', 'R' : 'R', 'S' : '$', 'T' : '7',\n",
    "             'U' : 'U', 'V' : 'V', 'W' : 'W', 'X' : 'X', 'Y' : 'Y',\n",
    "             'Z' : '2'}"
   ]
  },
  {
   "cell_type": "code",
   "execution_count": 23,
   "metadata": {},
   "outputs": [
    {
     "data": {
      "text/plain": [
       "'! @M 31!73'"
      ]
     },
     "execution_count": 23,
     "metadata": {},
     "output_type": "execute_result"
    }
   ],
   "source": [
    "def to_leet_speak(words):\n",
    "    words = words.upper()\n",
    "    for char in leet_dict:\n",
    "        words = words.replace(char, leet_dict[char])\n",
    "    return words\n",
    "\n",
    "to_leet_speak(\"I am elite\")"
   ]
  },
  {
   "cell_type": "markdown",
   "metadata": {},
   "source": [
    "## Problem 3: Catalan Numbers\n",
    "Write a function that returns the $n$th Catalan number. Catalan numbers are defined as follows:\n",
    "\n",
    "$$ C_n = \\prod_{k=2}^n \\frac{n + k}{k} $$\n",
    "Where the big $\\Pi$ stands for \"product\". For example, the fourth Catalan number is calculated like this:\n",
    "\n",
    "$$ C_4 = \\frac{4 + 2}{2} \\cdot \\frac{4 + 3}{3} \\cdot \\frac{4 + 4}{4} = 3\\cdot\\frac{7}{3}\\cdot2 = 14$$"
   ]
  },
  {
   "cell_type": "code",
   "execution_count": 48,
   "metadata": {},
   "outputs": [
    {
     "data": {
      "text/plain": [
       "(5.0, 14.0, 41.99999999999999)"
      ]
     },
     "execution_count": 48,
     "metadata": {},
     "output_type": "execute_result"
    }
   ],
   "source": [
    "def catalan(n):\n",
    "    k = 2\n",
    "    cat = (n + k) / k\n",
    "    for number in range(k, n):\n",
    "        k += 1\n",
    "        cat *= ((n + k) / k)\n",
    "    return cat    \n",
    "\n",
    "catalan(3), catalan(4), catalan(5)"
   ]
  },
  {
   "cell_type": "markdown",
   "metadata": {},
   "source": [
    "## 4a: Anti-Vowels\n",
    "Write a function that takes in a string, and returns only the non-vowel characters.\n",
    "\n",
    "Example: antivowel(\"This is my text message!\") --> \"Ths s my txt mssg!\""
   ]
  },
  {
   "cell_type": "code",
   "execution_count": 99,
   "metadata": {},
   "outputs": [
    {
     "data": {
      "text/plain": [
       "'Ths s my txt mssg!'"
      ]
     },
     "execution_count": 99,
     "metadata": {},
     "output_type": "execute_result"
    }
   ],
   "source": [
    "def antivowel(words):\n",
    "    vowels = \"aeiouAEIOU\"\n",
    "    for vowel in vowels:\n",
    "        words = words.replace(vowel, '')\n",
    "    return words\n",
    "\n",
    "antivowel(\"This is my text mEssAgE!\")"
   ]
  },
  {
   "cell_type": "markdown",
   "metadata": {},
   "source": [
    "## 4b: Smart Vowel Remover\n",
    "Write a function that takes in a string, and removes the vowels. If the word is only one vowel long (ie, \"I\" or \"a\"), leave it as is. **You should use your solution to 4a to solve this problem!**\n",
    "\n",
    "Example: smart_antivowel(\"This is a text message!\") --> \"Ths s a txt mssg!\"\n",
    "\n",
    "Hint: The .split() method on strings might be useful here."
   ]
  },
  {
   "cell_type": "code",
   "execution_count": 5,
   "metadata": {},
   "outputs": [
    {
     "data": {
      "text/plain": [
       "'Ths s a txt mssg!'"
      ]
     },
     "execution_count": 5,
     "metadata": {},
     "output_type": "execute_result"
    }
   ],
   "source": [
    "def smart_antivowel(words):\n",
    "    words = words.split()\n",
    "    words = [antivowel(word) if len(word) > 1 else word for word in words]\n",
    "    return ' '.join(words)\n",
    "\n",
    "smart_antivowel(\"This is a text message!\")"
   ]
  },
  {
   "cell_type": "markdown",
   "metadata": {},
   "source": [
    "## 5a: Prime Numbers\n",
    "Write a function that determines whether or not a number is prime. A number is prime if it is only divisible by 1 and itself.\n",
    "\n",
    "Examples:\n",
    "\n",
    "is_prime(4) --> False (since $2\\times2 = 4$)\n",
    "\n",
    "is_prime(5) --> True (since the only divisors of 5 are 1 and 5))"
   ]
  },
  {
   "cell_type": "code",
   "execution_count": 52,
   "metadata": {},
   "outputs": [],
   "source": [
    "def is_prime(n):\n",
    "    if n >= 2:\n",
    "        for num in range(2, n):\n",
    "            if not (n % num):\n",
    "                return False\n",
    "        else:\n",
    "            return True"
   ]
  },
  {
   "cell_type": "code",
   "execution_count": 53,
   "metadata": {},
   "outputs": [
    {
     "data": {
      "text/plain": [
       "(True, False, True)"
      ]
     },
     "execution_count": 53,
     "metadata": {},
     "output_type": "execute_result"
    }
   ],
   "source": [
    "is_prime(2), is_prime(4), is_prime(7)"
   ]
  },
  {
   "cell_type": "markdown",
   "metadata": {},
   "source": [
    "5b: Sum of Primes\n",
    "Given a number n, find the sum of all prime numbers less than or equal to that number. **You should use your solution to 5a to solve this problem.**\n",
    "\n",
    "Example:\n",
    "\n",
    "sum_of_primes(17) --> 2 + 3 + 5 + 7 + 11 + 13 + 17 --> 58"
   ]
  },
  {
   "cell_type": "code",
   "execution_count": 14,
   "metadata": {},
   "outputs": [],
   "source": [
    "def sum_of_primes(n):\n",
    "    prime = 0\n",
    "    for number in range(1, n+1):\n",
    "        if is_prime(number) == True:\n",
    "            prime += number\n",
    "    return prime"
   ]
  },
  {
   "cell_type": "code",
   "execution_count": 15,
   "metadata": {},
   "outputs": [
    {
     "data": {
      "text/plain": [
       "(2, 17, 28)"
      ]
     },
     "execution_count": 15,
     "metadata": {},
     "output_type": "execute_result"
    }
   ],
   "source": [
    "sum_of_primes(2), sum_of_primes(8), sum_of_primes(11)"
   ]
  },
  {
   "cell_type": "markdown",
   "metadata": {},
   "source": [
    "## Bonus: String Compressor\n",
    "Here's a problem that has given a lot of prior students a lot of trouble!\n",
    "\n",
    "Implement a method to perform basic string compression using the counts of repeated characters. (This is called run-length encoding.) For example, the string \"aabcccccaaa\" would become a2b1c5a3. If the “compressed” string would not become smaller than the original string, your method should return the original string. You can assume the string has only uppercase and lowercase letters (a–z). Specify whether your solution is case sensitive or case insensitive and what you would need to change to make it the other."
   ]
  },
  {
   "cell_type": "code",
   "execution_count": 16,
   "metadata": {},
   "outputs": [],
   "source": [
    "def compressor(words):\n",
    "    # Start by working with the first letter\n",
    "    letter = words[0]\n",
    "    \n",
    "    # Start each letter with a count of 1\n",
    "    count = 1 \n",
    "\n",
    "    # Iterate through loop, skipping last one to keep index in range\n",
    "    for idx in range(len(words) - 1):\n",
    "        if(words[idx] == words[idx + 1]): # Comparing the first letter to the next letter\n",
    "            count += 1 # Increasing the count for each letter that is == to the next letter\n",
    "        else:\n",
    "            if(count >= 1): \n",
    "                letter += str(count) # Ignore if no repeats\n",
    "            letter += words[idx + 1]\n",
    "            count = 1 # reset the counter to 1 so that all the numbers don't \n",
    "    \n",
    "    # Print last one letter combination\n",
    "    if(count >= 1):\n",
    "        letter += str(count)\n",
    "    return letter"
   ]
  },
  {
   "cell_type": "code",
   "execution_count": 17,
   "metadata": {},
   "outputs": [
    {
     "data": {
      "text/plain": [
       "'a2b1c5a3'"
      ]
     },
     "execution_count": 17,
     "metadata": {},
     "output_type": "execute_result"
    }
   ],
   "source": [
    "compressor(\"aabcccccaaa\")"
   ]
  }
 ],
 "metadata": {
  "kernelspec": {
   "display_name": "Python [conda env:dsi]",
   "language": "python",
   "name": "conda-env-dsi-py"
  },
  "language_info": {
   "codemirror_mode": {
    "name": "ipython",
    "version": 3
   },
   "file_extension": ".py",
   "mimetype": "text/x-python",
   "name": "python",
   "nbconvert_exporter": "python",
   "pygments_lexer": "ipython3",
   "version": "3.6.5"
  }
 },
 "nbformat": 4,
 "nbformat_minor": 2
}
