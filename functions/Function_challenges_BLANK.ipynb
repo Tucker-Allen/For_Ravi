{
 "cells": [
  {
   "cell_type": "markdown",
   "metadata": {},
   "source": [
    "## Python Coding Exercises"
   ]
  },
  {
   "cell_type": "markdown",
   "metadata": {},
   "source": [
    "*Author* Tim Book, *General Assembly DC*\n",
    "\n",
    "Please fork this repo to your personal page. Solve the exercises in the blank cells provided.\n",
    "\n",
    "The following questions are questions of the type you might see in a technical interview. I have done my best to order them easiest-to-hardest, but your mileage may vary.\n",
    "\n",
    "Please note that there may be several ways to approach each challenge. Many of these problems can be found online. If you simply copy and paste things you find online, two things will occur:\n",
    "\n",
    "- You will have missed the point! The types of problems here are meant to display you have a firm grasp on the fundamentals of computer programming. Some of these problems are hard. You're meant to struggle!"
   ]
  },
  {
   "cell_type": "markdown",
   "metadata": {},
   "source": [
    "## Problem 1: FizzBuzz\n",
    "\n",
    "This is by far the most famous (and cliche) interview question.\n",
    "\n",
    "Write a function that loops through the numbers 1 to 100. If the number is divisible by 3, print \"Fizz\". If it's divisible by 5, print \"Buzz\". If it's divisible by *both* 3 and 5, instead print \"FizzBuzz\". If it's divisible by neither 3 nor 5, simply print the number."
   ]
  },
  {
   "cell_type": "code",
   "execution_count": null,
   "metadata": {},
   "outputs": [],
   "source": [
    "def fizzbuzz():\n",
    "    pass"
   ]
  },
  {
   "cell_type": "markdown",
   "metadata": {},
   "source": [
    "## Problem 2: Leet Speak\n",
    "\n",
    "Write a function called to_leet_speak that converts any string of characters to \"leet speak.\" \"Leet\" is a made-up internet language in which you replace characters with symbols that look like those characters.\n",
    "\n",
    "Example: to_leet_speak(\"i am elite\") --> \"! @M 31!73\"\n",
    "\n",
    "The the English-to-leet dictionary is given to you below. You should use this in your soltuion. Your solution should case-insensitive."
   ]
  },
  {
   "cell_type": "code",
   "execution_count": null,
   "metadata": {},
   "outputs": [],
   "source": [
    "leet_dict = {'A' : '@', 'B' : '8', 'C' : '(', 'D' : 'D', 'E' : '3',\n",
    "             'F' : 'F', 'G' : '6', 'H' : '#', 'I' : '!', 'J' : 'J',\n",
    "             'K' : 'K', 'L' : '1', 'M' : 'M', 'N' : 'N', 'O' : '0',\n",
    "             'P' : 'P', 'Q' : 'Q', 'R' : 'R', 'S' : '$', 'T' : '7',\n",
    "             'U' : 'U', 'V' : 'V', 'W' : 'W', 'X' : 'X', 'Y' : 'Y',\n",
    "             'Z' : '2'}"
   ]
  },
  {
   "cell_type": "code",
   "execution_count": null,
   "metadata": {},
   "outputs": [],
   "source": [
    "def to_leet_speak(words):\n",
    "    pass"
   ]
  },
  {
   "cell_type": "markdown",
   "metadata": {},
   "source": [
    "## Problem 3: Catalan Numbers\n",
    "Write a function that returns the $n$th Catalan number. Catalan numbers are defined as follows:\n",
    "\n",
    "$$ C_n = \\prod_{k=2}^n \\frac{n + k}{k} $$\n",
    "Where the big $\\Pi$ stands for \"product\". For example, the fourth Catalan number is calculated like this:\n",
    "\n",
    "$$ C_4 = \\frac{4 + 2}{2} \\cdot \\frac{4 + 3}{3} \\cdot \\frac{4 + 4}{4} = 3\\cdot\\frac{7}{3}\\cdot2 = 14$$"
   ]
  },
  {
   "cell_type": "code",
   "execution_count": null,
   "metadata": {},
   "outputs": [],
   "source": [
    "def catalan(n):\n",
    "    pass"
   ]
  },
  {
   "cell_type": "markdown",
   "metadata": {},
   "source": [
    "## 4a: Anti-Vowels\n",
    "Write a function that takes in a string, and returns only the non-vowel characters.\n",
    "\n",
    "Example: antivowel(\"This is my text message!\") --> \"Ths s my txt mssg!\""
   ]
  },
  {
   "cell_type": "code",
   "execution_count": null,
   "metadata": {},
   "outputs": [],
   "source": [
    "def antivowel(words):\n",
    "    pass"
   ]
  },
  {
   "cell_type": "markdown",
   "metadata": {},
   "source": [
    "## 4b: Smart Vowel Remover\n",
    "Write a function that takes in a string, and removes the vowels. If the word is only one vowel long (ie, \"I\" or \"a\"), leave it as is. **You should use your solution to 4a to solve this problem!**\n",
    "\n",
    "Example: smart_antivowel(\"This is a text message!\") --> \"Ths s a txt mssg!\"\n",
    "\n",
    "Hint: The .split() method on strings might be useful here."
   ]
  },
  {
   "cell_type": "code",
   "execution_count": null,
   "metadata": {},
   "outputs": [],
   "source": [
    "def smart_antivowel(words):\n",
    "    pass"
   ]
  },
  {
   "cell_type": "markdown",
   "metadata": {},
   "source": [
    "## 5a: Prime Numbers\n",
    "Write a function that determines whether or not a number is prime. A number is prime if it is only divisible by 1 and itself.\n",
    "\n",
    "Examples:\n",
    "\n",
    "is_prime(4) --> False (since $2\\times2 = 4$)\n",
    "\n",
    "is_prime(5) --> True (since the only divisors of 5 are 1 and 5))"
   ]
  },
  {
   "cell_type": "code",
   "execution_count": null,
   "metadata": {},
   "outputs": [],
   "source": [
    "def is_prime(n):\n",
    "    pass"
   ]
  },
  {
   "cell_type": "markdown",
   "metadata": {},
   "source": [
    "5b: Sum of Primes\n",
    "Given a number n, find the sum of all prime numbers less than or equal to that number. **You should use your solution to 5a to solve this problem.**\n",
    "\n",
    "Example:\n",
    "\n",
    "sum_of_primes(17) --> 2 + 3 + 5 + 7 + 11 + 13 + 17 --> 58"
   ]
  },
  {
   "cell_type": "code",
   "execution_count": null,
   "metadata": {},
   "outputs": [],
   "source": [
    "def sum_of_primes(n):\n",
    "    pass"
   ]
  },
  {
   "cell_type": "markdown",
   "metadata": {},
   "source": [
    "## Bonus: String Compressor\n",
    "Here's a problem that has given a lot of prior students a lot of trouble!\n",
    "\n",
    "Implement a method to perform basic string compression using the counts of repeated characters. (This is called run-length encoding.) For example, the string \"aabcccccaaa\" would become a2b1c5a3. If the “compressed” string would not become smaller than the original string, your method should return the original string. You can assume the string has only uppercase and lowercase letters (a–z). Specify whether your solution is case sensitive or case insensitive and what you would need to change to make it the other."
   ]
  },
  {
   "cell_type": "code",
   "execution_count": null,
   "metadata": {},
   "outputs": [],
   "source": [
    "def compressor(words):\n",
    "    pass"
   ]
  }
 ],
 "metadata": {
  "kernelspec": {
   "display_name": "Python [conda env:dsi]",
   "language": "python",
   "name": "conda-env-dsi-py"
  },
  "language_info": {
   "codemirror_mode": {
    "name": "ipython",
    "version": 3
   },
   "file_extension": ".py",
   "mimetype": "text/x-python",
   "name": "python",
   "nbconvert_exporter": "python",
   "pygments_lexer": "ipython3",
   "version": "3.6.5"
  }
 },
 "nbformat": 4,
 "nbformat_minor": 2
}
