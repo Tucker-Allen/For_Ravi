{
 "cells": [
  {
   "cell_type": "markdown",
   "metadata": {},
   "source": [
    "# Functions Overview\n",
    "\n",
    "*Ben Shaver (DC), Douglas Strodtman (SaMo)*"
   ]
  },
  {
   "cell_type": "markdown",
   "metadata": {},
   "source": [
    "Here is the structure of a typical Python function:\n",
    "\n",
    "```python\n",
    "def function_name(argument1, argument2, ...):\n",
    "    # Function body\n",
    "    <do stuff to the arguments>\n",
    "    print('something') # Optional\n",
    "    return <something> # Optional\n",
    "    ```\n",
    "    \n",
    "`def` is the keyword that tells Python we're trying to define a function. `if` and `for` are other keywords.\n",
    "\n",
    "`function_name` is just the name of the function. Usually we assign an object to a variable name with the assignment operator `=`, like so: \n",
    "```python\n",
    "x = something\n",
    "```\n",
    "But when we define a function we dont need to assign it to anything.\n",
    "\n",
    "The function arguments (also called parameters) are given inside the parentheses. The function user will provide these, and our function will operate on them according to the code in the function body. Note that the function body is indented by four spaces (or a tab in Jupyter Notebooks). This is similar to the indentation we see in `if`/`else` statements or `for` loops.\n",
    "\n",
    "The `return` keyword outputs something back to the line in which the function was called. It is optional, since your function may do useful things without actually returning anything, ie printing something or plotting a curve. Calling `return` inside a function body **always** ends the execution of the function, so you may sometimes return nothing just to exit a `for` loop inside a function"
   ]
  },
  {
   "cell_type": "code",
   "execution_count": null,
   "metadata": {
    "ExecuteTime": {
     "end_time": "2018-04-24T16:17:49.659585Z",
     "start_time": "2018-04-24T16:17:49.609630Z"
    }
   },
   "outputs": [],
   "source": [
    "def add_squares(a, b):\n",
    "    # square a and b\n",
    "    return a_sq + b_sq\n",
    "\n",
    "add_squares(2,3)"
   ]
  },
  {
   "cell_type": "markdown",
   "metadata": {},
   "source": [
    "Note that you may `print` something inside a function, but what you print is **not** returned. "
   ]
  },
  {
   "cell_type": "code",
   "execution_count": null,
   "metadata": {},
   "outputs": [],
   "source": [
    "def add_squares(a, b):\n",
    "    # square a and b, then print instead of returning\n",
    "    # try adding an additional print statement to see what's happening\n",
    "\n",
    "add_squares(2,3)"
   ]
  },
  {
   "cell_type": "markdown",
   "metadata": {},
   "source": [
    "You can't do anything **including print** after you've `return`ed."
   ]
  },
  {
   "cell_type": "code",
   "execution_count": null,
   "metadata": {},
   "outputs": [],
   "source": [
    "def add_squares(a, b):\n",
    "    # copy the code from your original function here and see what happens\n",
    "    print ('Did you expect this to print?')\n",
    "\n",
    "add_squares(2,3)"
   ]
  },
  {
   "cell_type": "markdown",
   "metadata": {},
   "source": [
    "The function above works as usual, but not that intermediate variables such as `a_sq` are not accessible outside the scope of the function:"
   ]
  },
  {
   "cell_type": "code",
   "execution_count": null,
   "metadata": {
    "ExecuteTime": {
     "end_time": "2018-04-24T16:17:59.308919Z",
     "start_time": "2018-04-24T16:17:59.108568Z"
    }
   },
   "outputs": [],
   "source": [
    "print(a_sq)"
   ]
  },
  {
   "cell_type": "markdown",
   "metadata": {},
   "source": [
    "Most of the remaining complexity when it comes to functions has to do with the behavior of arguments."
   ]
  },
  {
   "cell_type": "markdown",
   "metadata": {},
   "source": [
    "### Default arguments:"
   ]
  },
  {
   "cell_type": "code",
   "execution_count": null,
   "metadata": {
    "ExecuteTime": {
     "end_time": "2018-04-24T16:21:15.623361Z",
     "start_time": "2018-04-24T16:21:15.610789Z"
    }
   },
   "outputs": [],
   "source": [
    "def count_up(x, increment=1):\n",
    "    return(x + increment)\n",
    "\n",
    "count_up(1) # increment is optional"
   ]
  },
  {
   "cell_type": "markdown",
   "metadata": {},
   "source": [
    "If increment is specified, Python performs _positional matching_ to match given arguments to argument names:"
   ]
  },
  {
   "cell_type": "code",
   "execution_count": null,
   "metadata": {
    "ExecuteTime": {
     "end_time": "2018-04-24T16:21:24.180534Z",
     "start_time": "2018-04-24T16:21:24.172496Z"
    }
   },
   "outputs": [],
   "source": [
    "count_up(1,1)"
   ]
  },
  {
   "cell_type": "markdown",
   "metadata": {
    "ExecuteTime": {
     "end_time": "2018-04-24T15:45:12.598428Z",
     "start_time": "2018-04-24T15:45:12.592568Z"
    }
   },
   "source": [
    "We may also want to be explicit:"
   ]
  },
  {
   "cell_type": "code",
   "execution_count": null,
   "metadata": {},
   "outputs": [],
   "source": [
    "count_up(#specify the names of your arguments in any order)"
   ]
  },
  {
   "cell_type": "code",
   "execution_count": null,
   "metadata": {
    "ExecuteTime": {
     "end_time": "2018-04-24T16:21:58.039690Z",
     "start_time": "2018-04-24T16:21:58.031132Z"
    }
   },
   "outputs": [],
   "source": [
    "count_up(x=1, increment=2) == count_up(increment=2, x=1)"
   ]
  },
  {
   "cell_type": "markdown",
   "metadata": {},
   "source": [
    "But we can't do positional matching after a keyword has been specified:\n"
   ]
  },
  {
   "cell_type": "code",
   "execution_count": null,
   "metadata": {
    "ExecuteTime": {
     "end_time": "2018-04-24T16:22:27.775334Z",
     "start_time": "2018-04-24T16:22:27.763677Z"
    }
   },
   "outputs": [],
   "source": [
    "count_up(increment=2, 1)"
   ]
  },
  {
   "cell_type": "markdown",
   "metadata": {},
   "source": [
    "### Conditional Arguments"
   ]
  },
  {
   "cell_type": "markdown",
   "metadata": {},
   "source": [
    "We can define conditionals as default arguments and then use these internally to change the functionality of our functions."
   ]
  },
  {
   "cell_type": "code",
   "execution_count": null,
   "metadata": {
    "ExecuteTime": {
     "end_time": "2018-04-24T16:26:28.663262Z",
     "start_time": "2018-04-24T16:26:28.651794Z"
    }
   },
   "outputs": [],
   "source": [
    "def square_and_maybe_sum(num_list, add=True):\n",
    "    # write a conditional statement to only sum the squares if add=True\n",
    "        return sum([num ** 2 for num in num_list])\n",
    "    print('Numbers squared but not added')\n",
    "    return [num ** 2 for num in num_list]"
   ]
  },
  {
   "cell_type": "markdown",
   "metadata": {},
   "source": [
    "**NOTE**: In this function we return a scalar when `add=True` and a list when `add=False`. **This is generally a bad idea, but python won't stop you from making this mistake.**"
   ]
  },
  {
   "cell_type": "code",
   "execution_count": null,
   "metadata": {
    "ExecuteTime": {
     "end_time": "2018-04-24T16:26:51.752641Z",
     "start_time": "2018-04-24T16:26:51.745748Z"
    }
   },
   "outputs": [],
   "source": [
    "square_and_maybe_sum([2, 3, 5], add=True)"
   ]
  },
  {
   "cell_type": "code",
   "execution_count": null,
   "metadata": {
    "ExecuteTime": {
     "end_time": "2018-04-24T16:26:56.759639Z",
     "start_time": "2018-04-24T16:26:56.747478Z"
    }
   },
   "outputs": [],
   "source": [
    "square_and_maybe_sum([2, 3, 5], add=False)"
   ]
  },
  {
   "cell_type": "markdown",
   "metadata": {},
   "source": [
    "You can also take advantage of default arguments directly in your logic."
   ]
  },
  {
   "cell_type": "code",
   "execution_count": null,
   "metadata": {},
   "outputs": [],
   "source": [
    "def sum_exponentiated_list(num_list, exp=None):\n",
    "    # Write a conditional statement for exp\n",
    "        return sum([num ** exp for num in num_list])\n",
    "    # Should there be an exception when exp == 0?\n",
    "#         return len(num_list)\n",
    "    return sum(num_list)"
   ]
  },
  {
   "cell_type": "code",
   "execution_count": null,
   "metadata": {},
   "outputs": [],
   "source": [
    "sum_exponentiated_list([2,3,5])"
   ]
  },
  {
   "cell_type": "code",
   "execution_count": null,
   "metadata": {},
   "outputs": [],
   "source": [
    "sum_exponentiated_list([2,3,5], 2)"
   ]
  },
  {
   "cell_type": "code",
   "execution_count": null,
   "metadata": {},
   "outputs": [],
   "source": [
    "sum_exponentiated_list([2,3,5], -3)"
   ]
  },
  {
   "cell_type": "markdown",
   "metadata": {},
   "source": [
    "This function takes advantage of the fact that any number we would pass to replace `None` will exist and thus evaluate to `True` in boolean logic (except `0`, thus the `elif` statement)."
   ]
  },
  {
   "cell_type": "code",
   "execution_count": null,
   "metadata": {},
   "outputs": [],
   "source": [
    "sum_exponentiated_list([2,3,5], 0)"
   ]
  },
  {
   "cell_type": "markdown",
   "metadata": {},
   "source": [
    "## Lambda Functions"
   ]
  },
  {
   "cell_type": "markdown",
   "metadata": {},
   "source": [
    "These are not as difficult as you may think. They're just Python's way of creating quick little 'anonymous' functions for one-off use."
   ]
  },
  {
   "cell_type": "code",
   "execution_count": null,
   "metadata": {
    "ExecuteTime": {
     "end_time": "2018-04-24T16:36:50.269017Z",
     "start_time": "2018-04-24T16:36:50.261247Z"
    }
   },
   "outputs": [],
   "source": [
    "count_up = lambda x: # add 1 to x\n",
    "\n",
    "count_up(1)"
   ]
  },
  {
   "cell_type": "markdown",
   "metadata": {},
   "source": [
    "Almost always lambda functions will take one input, although they can take more:"
   ]
  },
  {
   "cell_type": "code",
   "execution_count": null,
   "metadata": {
    "ExecuteTime": {
     "end_time": "2018-04-24T16:36:52.522700Z",
     "start_time": "2018-04-24T16:36:52.514598Z"
    }
   },
   "outputs": [],
   "source": [
    "add_up = lambda x, y: # add x and y\n",
    "\n",
    "add_up(1, 2)"
   ]
  },
  {
   "cell_type": "markdown",
   "metadata": {},
   "source": [
    "_Apparently_, `lambda` functions can have no arguments:"
   ]
  },
  {
   "cell_type": "code",
   "execution_count": null,
   "metadata": {
    "ExecuteTime": {
     "end_time": "2018-04-24T16:48:19.620498Z",
     "start_time": "2018-04-24T16:48:19.612381Z"
    }
   },
   "outputs": [],
   "source": [
    "test = lambda : print('foo')\n",
    "bar = test()"
   ]
  },
  {
   "cell_type": "markdown",
   "metadata": {},
   "source": [
    "Take note, however: lambda functions are supposed to be anonymous! So you wouldn't normally assign them to a variable name in order to keep them around. Consider this ~~use~~ case:"
   ]
  },
  {
   "cell_type": "code",
   "execution_count": null,
   "metadata": {
    "ExecuteTime": {
     "end_time": "2018-04-24T16:38:21.402481Z",
     "start_time": "2018-04-24T16:38:21.390620Z"
    }
   },
   "outputs": [],
   "source": [
    "x = [x for x in range(5)] # Simple list comprehension\n",
    "x"
   ]
  },
  {
   "cell_type": "markdown",
   "metadata": {},
   "source": [
    "What if I want to compute $x^2 +1$ ?"
   ]
  },
  {
   "cell_type": "code",
   "execution_count": null,
   "metadata": {
    "ExecuteTime": {
     "end_time": "2018-04-24T16:47:02.390765Z",
     "start_time": "2018-04-24T16:47:02.377087Z"
    }
   },
   "outputs": [],
   "source": [
    "mapped_lambda = map(lambda x: x ** 2 +1, range(1000000))"
   ]
  },
  {
   "cell_type": "code",
   "execution_count": null,
   "metadata": {
    "ExecuteTime": {
     "end_time": "2018-04-24T16:47:02.390765Z",
     "start_time": "2018-04-24T16:47:02.377087Z"
    }
   },
   "outputs": [],
   "source": [
    "count = 0\n",
    "for result in mapped_lambda:\n",
    "    print(result)\n",
    "    count += 1\n",
    "    if count == 10:\n",
    "        break"
   ]
  },
  {
   "cell_type": "markdown",
   "metadata": {},
   "source": [
    "**We'll see a lot of `lambda` statements when we get into `map` and `apply` with Pandas.** It's not extremely important that you understand the default functionality of `map` here."
   ]
  },
  {
   "cell_type": "markdown",
   "metadata": {},
   "source": [
    "### \\*args and \\*\\*kwargs"
   ]
  },
  {
   "cell_type": "markdown",
   "metadata": {},
   "source": [
    "Have you run into `*args` and `**kwargs`?\n",
    "\n",
    "Neither of these are especially pythonic, and it's generally best to avoid these when defining your own functions. You may run into these in some of the packages we use, though.\n",
    "\n",
    "Giving `*args` to your function allows it to have an arbitrary number of arguments."
   ]
  },
  {
   "cell_type": "code",
   "execution_count": null,
   "metadata": {
    "ExecuteTime": {
     "end_time": "2018-04-24T16:24:25.897514Z",
     "start_time": "2018-04-24T16:24:25.884817Z"
    }
   },
   "outputs": [],
   "source": [
    "def add_squares(*args):\n",
    "    return sum([arg ** 2 for arg in args])\n",
    "\n",
    "add_squares(2, 3, 5)"
   ]
  },
  {
   "cell_type": "markdown",
   "metadata": {},
   "source": [
    "What type of thing is `*args`?\n",
    "\n",
    "Without going too deep into *why*, we can check the type and see that it's a tuple."
   ]
  },
  {
   "cell_type": "code",
   "execution_count": null,
   "metadata": {
    "ExecuteTime": {
     "end_time": "2018-04-24T16:25:32.175769Z",
     "start_time": "2018-04-24T16:25:32.167929Z"
    }
   },
   "outputs": [],
   "source": [
    "def print_args_type(*args):\n",
    "    print(type(args))\n",
    "print_args_type(1,2,3)"
   ]
  },
  {
   "cell_type": "markdown",
   "metadata": {},
   "source": [
    "**Let's look at why this is bad**\n",
    "\n",
    "We'll adapt the function we wrote above."
   ]
  },
  {
   "cell_type": "code",
   "execution_count": null,
   "metadata": {},
   "outputs": [],
   "source": [
    "def sum_exponentiated_nums(exp=None, *args):\n",
    "    if exp:\n",
    "        return sum([num ** exp for num in args])\n",
    "    elif exp == 0:\n",
    "        return len(args)\n",
    "    return sum(args)"
   ]
  },
  {
   "cell_type": "markdown",
   "metadata": {},
   "source": [
    "What do we expect to get below?"
   ]
  },
  {
   "cell_type": "code",
   "execution_count": null,
   "metadata": {},
   "outputs": [],
   "source": [
    "sum_exponentiated_nums(2, 3, 5)"
   ]
  },
  {
   "cell_type": "markdown",
   "metadata": {},
   "source": [
    "The function used our **first argument** as the `exp` and then captured the remainder of our argument in our `*args`. We can be explicit to get our desired functionality:"
   ]
  },
  {
   "cell_type": "code",
   "execution_count": null,
   "metadata": {},
   "outputs": [],
   "source": [
    "sum_exponentiated_nums(2, 2, 3, 5)"
   ]
  },
  {
   "cell_type": "markdown",
   "metadata": {},
   "source": [
    "**But it's horribly confusing.** Please, don't do this."
   ]
  },
  {
   "cell_type": "markdown",
   "metadata": {},
   "source": [
    "`*kwargs` are in some ways worse. You'll run into them more than you want to in `matplotlib` and some other packages. **Unless you're building out an extremely complicated class or module with a lot of moving parts, you shouldn't use these** (and even then, you're better off using default arguments)."
   ]
  },
  {
   "cell_type": "code",
   "execution_count": null,
   "metadata": {
    "ExecuteTime": {
     "end_time": "2018-04-24T16:31:38.566003Z",
     "start_time": "2018-04-24T16:31:38.558271Z"
    }
   },
   "outputs": [],
   "source": [
    "def print_value_and_kwarg(**kwargs):\n",
    "    for k in kwargs:\n",
    "        print(k, kwargs[k])"
   ]
  },
  {
   "cell_type": "code",
   "execution_count": null,
   "metadata": {},
   "outputs": [],
   "source": [
    "print_value_and_kwarg(arg1=2, arg2=3, arg3=4, arg4=5)"
   ]
  },
  {
   "cell_type": "code",
   "execution_count": null,
   "metadata": {},
   "outputs": [],
   "source": [
    "print_value_and_kwarg(arg3=4, arg4=5, arg1=2, arg2=3)"
   ]
  },
  {
   "cell_type": "code",
   "execution_count": null,
   "metadata": {
    "ExecuteTime": {
     "end_time": "2018-04-24T16:32:12.508679Z",
     "start_time": "2018-04-24T16:32:12.503135Z"
    }
   },
   "outputs": [],
   "source": [
    "def print_kwargs_type(**kwargs):\n",
    "    print(type(kwargs))\n",
    "print_kwargs_type(x=1, y=2)"
   ]
  },
  {
   "cell_type": "markdown",
   "metadata": {},
   "source": [
    "Python processes `**kwargs` into a dictionary, which can then be used for setting conditional logic within functions. **Where used, this is generally a relic of code ported from other languages (or for backwards compatability).** Be explicit instead."
   ]
  },
  {
   "cell_type": "code",
   "execution_count": null,
   "metadata": {},
   "outputs": [],
   "source": []
  }
 ],
 "metadata": {
  "kernelspec": {
   "display_name": "Python 3",
   "language": "python",
   "name": "python3"
  },
  "language_info": {
   "codemirror_mode": {
    "name": "ipython",
    "version": 3
   },
   "file_extension": ".py",
   "mimetype": "text/x-python",
   "name": "python",
   "nbconvert_exporter": "python",
   "pygments_lexer": "ipython3",
   "version": "3.6.6"
  },
  "toc": {
   "nav_menu": {},
   "number_sections": true,
   "sideBar": true,
   "skip_h1_title": false,
   "title_cell": "Table of Contents",
   "title_sidebar": "Contents",
   "toc_cell": false,
   "toc_position": {},
   "toc_section_display": true,
   "toc_window_display": false
  },
  "varInspector": {
   "cols": {
    "lenName": 16,
    "lenType": 16,
    "lenVar": 40
   },
   "kernels_config": {
    "python": {
     "delete_cmd_postfix": "",
     "delete_cmd_prefix": "del ",
     "library": "var_list.py",
     "varRefreshCmd": "print(var_dic_list())"
    },
    "r": {
     "delete_cmd_postfix": ") ",
     "delete_cmd_prefix": "rm(",
     "library": "var_list.r",
     "varRefreshCmd": "cat(var_dic_list()) "
    }
   },
   "types_to_exclude": [
    "module",
    "function",
    "builtin_function_or_method",
    "instance",
    "_Feature"
   ],
   "window_display": false
  }
 },
 "nbformat": 4,
 "nbformat_minor": 2
}
