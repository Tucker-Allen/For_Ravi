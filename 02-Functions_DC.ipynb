{
 "cells": [
  {
   "cell_type": "markdown",
   "metadata": {},
   "source": [
    "# Functions Reference"
   ]
  },
  {
   "cell_type": "markdown",
   "metadata": {},
   "source": [
    "# Function Basics"
   ]
  },
  {
   "cell_type": "markdown",
   "metadata": {},
   "source": [
    "Here is the structure of a typical Python function:\n",
    "\n",
    "```python\n",
    "def function_name(argument1, argument2, ...):\n",
    "    # Function body\n",
    "    <do stuff to the arguments>\n",
    "    print('something') # Optional\n",
    "    return <something> # Optional\n",
    "    ```\n",
    "    \n",
    "`def` is the keyword that tells Python we're trying to define a function. `if` and `for` are other keywords.\n",
    "\n",
    "`function_name` is just the name of the function. Usually we assign an object to a variable name with the assignment operator `=`, like so: \n",
    "```python\n",
    "x = something\n",
    "```\n",
    "But when we define a function we dont need to assign it to anything.\n",
    "\n",
    "The function arguments (also called parameters) are given inside the parentheses. The function user will provide these, and our function will operate on them according to the code in the function body. Note that the function body is indented by four spaces (or a tab in Jupyter Notebooks). This is similar to the indentation we see in `if`/`else` statements or `for` loops.\n",
    "\n",
    "The `return` keyword outputs something back to the line in which the function was called. It is optional, since your function may do useful things without actually returning anything, ie printing something or plotting a curve. Calling `return` inside a function body **always** ends the execution of the function, so you may sometimes return nothing just to exit a `for` loop inside a function\n",
    "\n",
    "Note that you may `print` something inside a function, but what you print is **not** returned. "
   ]
  },
  {
   "cell_type": "code",
   "execution_count": 1,
   "metadata": {
    "ExecuteTime": {
     "end_time": "2018-04-24T16:17:49.659585Z",
     "start_time": "2018-04-24T16:17:49.609630Z"
    }
   },
   "outputs": [
    {
     "data": {
      "text/plain": [
       "13"
      ]
     },
     "execution_count": 1,
     "metadata": {},
     "output_type": "execute_result"
    }
   ],
   "source": [
    "def add_squares(a, b):\n",
    "    a_sq = a ** 2\n",
    "    b_sq = b ** 2\n",
    "    return a_sq + b_sq\n",
    "\n",
    "add_squares(2,3)"
   ]
  },
  {
   "cell_type": "markdown",
   "metadata": {},
   "source": [
    "The function above works as usual, but not that intermediate variables such as `a_sq` are not accessible outside the scope of the function:"
   ]
  },
  {
   "cell_type": "code",
   "execution_count": 2,
   "metadata": {
    "ExecuteTime": {
     "end_time": "2018-04-24T16:17:59.308919Z",
     "start_time": "2018-04-24T16:17:59.108568Z"
    }
   },
   "outputs": [
    {
     "ename": "NameError",
     "evalue": "name 'a_sq' is not defined",
     "output_type": "error",
     "traceback": [
      "\u001b[1;31m------------------------------------------------\u001b[0m",
      "\u001b[1;31mNameError\u001b[0m      Traceback (most recent call last)",
      "\u001b[1;32m<ipython-input-2-2d32ad23c2d4>\u001b[0m in \u001b[0;36m<module>\u001b[1;34m()\u001b[0m\n\u001b[1;32m----> 1\u001b[1;33m \u001b[0mprint\u001b[0m\u001b[1;33m(\u001b[0m\u001b[0ma_sq\u001b[0m\u001b[1;33m)\u001b[0m\u001b[1;33m\u001b[0m\u001b[0m\n\u001b[0m",
      "\u001b[1;31mNameError\u001b[0m: name 'a_sq' is not defined"
     ]
    }
   ],
   "source": [
    "print(a_sq)"
   ]
  },
  {
   "cell_type": "markdown",
   "metadata": {},
   "source": [
    "Most of the remaining complexity when it comes to functions has to do with the behavior of arguments."
   ]
  },
  {
   "cell_type": "markdown",
   "metadata": {},
   "source": [
    "Default arguments:"
   ]
  },
  {
   "cell_type": "code",
   "execution_count": 4,
   "metadata": {
    "ExecuteTime": {
     "end_time": "2018-04-24T16:21:15.623361Z",
     "start_time": "2018-04-24T16:21:15.610789Z"
    }
   },
   "outputs": [
    {
     "data": {
      "text/plain": [
       "2"
      ]
     },
     "execution_count": 4,
     "metadata": {},
     "output_type": "execute_result"
    }
   ],
   "source": [
    "def count_up(x, increment=1):\n",
    "    return(x + increment)\n",
    "\n",
    "count_up(1) # increment is optional"
   ]
  },
  {
   "cell_type": "markdown",
   "metadata": {},
   "source": [
    "If increment is specified, Python performs _positional matching_ to match given arguments to argument names:"
   ]
  },
  {
   "cell_type": "code",
   "execution_count": 5,
   "metadata": {
    "ExecuteTime": {
     "end_time": "2018-04-24T16:21:24.180534Z",
     "start_time": "2018-04-24T16:21:24.172496Z"
    }
   },
   "outputs": [
    {
     "data": {
      "text/plain": [
       "2"
      ]
     },
     "execution_count": 5,
     "metadata": {},
     "output_type": "execute_result"
    }
   ],
   "source": [
    "count_up(1,1)"
   ]
  },
  {
   "cell_type": "markdown",
   "metadata": {
    "ExecuteTime": {
     "end_time": "2018-04-24T15:45:12.598428Z",
     "start_time": "2018-04-24T15:45:12.592568Z"
    }
   },
   "source": [
    "We may also want to be explicit:"
   ]
  },
  {
   "cell_type": "code",
   "execution_count": 7,
   "metadata": {
    "ExecuteTime": {
     "end_time": "2018-04-24T16:21:58.039690Z",
     "start_time": "2018-04-24T16:21:58.031132Z"
    }
   },
   "outputs": [
    {
     "data": {
      "text/plain": [
       "3"
      ]
     },
     "execution_count": 7,
     "metadata": {},
     "output_type": "execute_result"
    }
   ],
   "source": [
    "count_up(x=1, increment=2)\n",
    "count_up(increment=2, x=1)"
   ]
  },
  {
   "cell_type": "markdown",
   "metadata": {},
   "source": [
    "But we can't do positional matching after a keyword has been specified:\n"
   ]
  },
  {
   "cell_type": "code",
   "execution_count": 8,
   "metadata": {
    "ExecuteTime": {
     "end_time": "2018-04-24T16:22:27.775334Z",
     "start_time": "2018-04-24T16:22:27.763677Z"
    }
   },
   "outputs": [
    {
     "ename": "SyntaxError",
     "evalue": "positional argument follows keyword argument (<ipython-input-8-de014327c0b9>, line 1)",
     "output_type": "error",
     "traceback": [
      "\u001b[1;36m  File \u001b[1;32m\"<ipython-input-8-de014327c0b9>\"\u001b[1;36m, line \u001b[1;32m1\u001b[0m\n\u001b[1;33m    count_up(increment=2, 1)\u001b[0m\n\u001b[1;37m                         ^\u001b[0m\n\u001b[1;31mSyntaxError\u001b[0m\u001b[1;31m:\u001b[0m positional argument follows keyword argument\n"
     ]
    }
   ],
   "source": [
    "count_up(increment=2, 1)"
   ]
  },
  {
   "cell_type": "markdown",
   "metadata": {},
   "source": [
    "## Advanced Function Stuff"
   ]
  },
  {
   "cell_type": "markdown",
   "metadata": {},
   "source": [
    "Whatchou know about args and kwargs?!\n",
    "\n",
    "Giving `*args` to your function allows it to have an arbitrary number of arguments."
   ]
  },
  {
   "cell_type": "code",
   "execution_count": 9,
   "metadata": {
    "ExecuteTime": {
     "end_time": "2018-04-24T16:24:25.897514Z",
     "start_time": "2018-04-24T16:24:25.884817Z"
    }
   },
   "outputs": [
    {
     "data": {
      "text/plain": [
       "38"
      ]
     },
     "execution_count": 9,
     "metadata": {},
     "output_type": "execute_result"
    }
   ],
   "source": [
    "def add_squares(*args):\n",
    "    return sum([arg ** 2 for arg in args])\n",
    "\n",
    "add_squares(2, 3, 5)"
   ]
  },
  {
   "cell_type": "markdown",
   "metadata": {},
   "source": [
    "Note that the operative piece here is the asterisk:"
   ]
  },
  {
   "cell_type": "code",
   "execution_count": 10,
   "metadata": {
    "ExecuteTime": {
     "end_time": "2018-04-24T16:24:51.657933Z",
     "start_time": "2018-04-24T16:24:51.646306Z"
    }
   },
   "outputs": [
    {
     "data": {
      "text/plain": [
       "38"
      ]
     },
     "execution_count": 10,
     "metadata": {},
     "output_type": "execute_result"
    }
   ],
   "source": [
    "def add_squares(*foo):\n",
    "    return sum([arg ** 2 for arg in foo])\n",
    "\n",
    "add_squares(2, 3, 5)"
   ]
  },
  {
   "cell_type": "code",
   "execution_count": 12,
   "metadata": {
    "ExecuteTime": {
     "end_time": "2018-04-24T16:25:32.175769Z",
     "start_time": "2018-04-24T16:25:32.167929Z"
    }
   },
   "outputs": [
    {
     "name": "stdout",
     "output_type": "stream",
     "text": [
      "<class 'tuple'>\n"
     ]
    }
   ],
   "source": [
    "# What type of thing is 'args'?\n",
    "def temp(*args):\n",
    "    print(type(args))\n",
    "temp(1,2,3)"
   ]
  },
  {
   "cell_type": "code",
   "execution_count": 13,
   "metadata": {
    "ExecuteTime": {
     "end_time": "2018-04-24T16:26:28.663262Z",
     "start_time": "2018-04-24T16:26:28.651794Z"
    }
   },
   "outputs": [],
   "source": [
    "def add_squares_maybe(*args, add=True):\n",
    "    if add:\n",
    "        return sum([arg ** 2 for arg in args])\n",
    "    print('You told me not to add the args :(')"
   ]
  },
  {
   "cell_type": "code",
   "execution_count": 14,
   "metadata": {
    "ExecuteTime": {
     "end_time": "2018-04-24T16:26:51.752641Z",
     "start_time": "2018-04-24T16:26:51.745748Z"
    }
   },
   "outputs": [
    {
     "data": {
      "text/plain": [
       "38"
      ]
     },
     "execution_count": 14,
     "metadata": {},
     "output_type": "execute_result"
    }
   ],
   "source": [
    "add_squares_maybe(2, 3, 5, add=True)"
   ]
  },
  {
   "cell_type": "code",
   "execution_count": 15,
   "metadata": {
    "ExecuteTime": {
     "end_time": "2018-04-24T16:26:56.759639Z",
     "start_time": "2018-04-24T16:26:56.747478Z"
    }
   },
   "outputs": [
    {
     "name": "stdout",
     "output_type": "stream",
     "text": [
      "You told me not to add the args :(\n"
     ]
    }
   ],
   "source": [
    "add_squares_maybe(2, 3, 5, add=False)"
   ]
  },
  {
   "cell_type": "code",
   "execution_count": 18,
   "metadata": {
    "ExecuteTime": {
     "end_time": "2018-04-24T16:28:31.323542Z",
     "start_time": "2018-04-24T16:28:31.314690Z"
    }
   },
   "outputs": [],
   "source": [
    "def add_squares_maybe(add=True, *args):\n",
    "    if add:\n",
    "        return sum([arg ** 2 for arg in args])\n",
    "    print('You told me not to add the args :(')"
   ]
  },
  {
   "cell_type": "code",
   "execution_count": 19,
   "metadata": {
    "ExecuteTime": {
     "end_time": "2018-04-24T16:28:35.597558Z",
     "start_time": "2018-04-24T16:28:35.586014Z"
    }
   },
   "outputs": [
    {
     "data": {
      "text/plain": [
       "34"
      ]
     },
     "execution_count": 19,
     "metadata": {},
     "output_type": "execute_result"
    }
   ],
   "source": [
    "add_squares_maybe(2,3,5) # Mysterious behavior"
   ]
  },
  {
   "cell_type": "markdown",
   "metadata": {},
   "source": [
    "*kwargs"
   ]
  },
  {
   "cell_type": "code",
   "execution_count": 25,
   "metadata": {
    "ExecuteTime": {
     "end_time": "2018-04-24T16:31:38.566003Z",
     "start_time": "2018-04-24T16:31:38.558271Z"
    }
   },
   "outputs": [],
   "source": [
    "def foo(**kwargs):\n",
    "    for k in kwargs:\n",
    "        print(k, kwargs[k])"
   ]
  },
  {
   "cell_type": "code",
   "execution_count": 26,
   "metadata": {
    "ExecuteTime": {
     "end_time": "2018-04-24T16:32:12.508679Z",
     "start_time": "2018-04-24T16:32:12.503135Z"
    }
   },
   "outputs": [
    {
     "name": "stdout",
     "output_type": "stream",
     "text": [
      "<class 'dict'>\n"
     ]
    }
   ],
   "source": [
    "def temp(**kwargs):\n",
    "    print(type(kwargs))\n",
    "temp(x=1, y=2)"
   ]
  },
  {
   "cell_type": "code",
   "execution_count": null,
   "metadata": {},
   "outputs": [],
   "source": [
    "# An example of a python built-in func that uses args:\n",
    "?????"
   ]
  },
  {
   "cell_type": "markdown",
   "metadata": {},
   "source": [
    "## Lambda Functions"
   ]
  },
  {
   "cell_type": "markdown",
   "metadata": {},
   "source": [
    "These are not as difficult as you may think. They're just Python's way of creating quick little 'anonymous' functions for one-off use."
   ]
  },
  {
   "cell_type": "code",
   "execution_count": 34,
   "metadata": {
    "ExecuteTime": {
     "end_time": "2018-04-24T16:36:50.269017Z",
     "start_time": "2018-04-24T16:36:50.261247Z"
    }
   },
   "outputs": [
    {
     "data": {
      "text/plain": [
       "2"
      ]
     },
     "execution_count": 34,
     "metadata": {},
     "output_type": "execute_result"
    }
   ],
   "source": [
    "count_up = lambda x: x + 1\n",
    "\n",
    "count_up(1)"
   ]
  },
  {
   "cell_type": "markdown",
   "metadata": {},
   "source": [
    "Almost always lambda functions will take one input, although they can take more:"
   ]
  },
  {
   "cell_type": "code",
   "execution_count": 35,
   "metadata": {
    "ExecuteTime": {
     "end_time": "2018-04-24T16:36:52.522700Z",
     "start_time": "2018-04-24T16:36:52.514598Z"
    }
   },
   "outputs": [
    {
     "data": {
      "text/plain": [
       "3"
      ]
     },
     "execution_count": 35,
     "metadata": {},
     "output_type": "execute_result"
    }
   ],
   "source": [
    "add_up = lambda x, y: x + y\n",
    "\n",
    "add_up(1, 2)"
   ]
  },
  {
   "cell_type": "markdown",
   "metadata": {},
   "source": [
    "_Apparently_, `lambda` functions can have no arguments:"
   ]
  },
  {
   "cell_type": "code",
   "execution_count": 70,
   "metadata": {
    "ExecuteTime": {
     "end_time": "2018-04-24T16:48:19.620498Z",
     "start_time": "2018-04-24T16:48:19.612381Z"
    }
   },
   "outputs": [
    {
     "name": "stdout",
     "output_type": "stream",
     "text": [
      "foo\n"
     ]
    }
   ],
   "source": [
    "test = lambda : print('foo')\n",
    "bar = test()"
   ]
  },
  {
   "cell_type": "markdown",
   "metadata": {},
   "source": [
    "Take note, however: lambda functions are supposed to be anonymous! So you wouldn't normally assign them to a variable name in order to keep them around. Consider this ~~use~~ case:"
   ]
  },
  {
   "cell_type": "code",
   "execution_count": 36,
   "metadata": {
    "ExecuteTime": {
     "end_time": "2018-04-24T16:38:21.402481Z",
     "start_time": "2018-04-24T16:38:21.390620Z"
    }
   },
   "outputs": [
    {
     "data": {
      "text/plain": [
       "[0, 1, 2, 3, 4]"
      ]
     },
     "execution_count": 36,
     "metadata": {},
     "output_type": "execute_result"
    }
   ],
   "source": [
    "x = [x for x in range(5)] # Simple list comprehension\n",
    "x"
   ]
  },
  {
   "cell_type": "markdown",
   "metadata": {},
   "source": [
    "What if I want to compute $x^2 +1$ ?"
   ]
  },
  {
   "cell_type": "code",
   "execution_count": 67,
   "metadata": {
    "ExecuteTime": {
     "end_time": "2018-04-24T16:47:02.077133Z",
     "start_time": "2018-04-24T16:47:02.064747Z"
    }
   },
   "outputs": [],
   "source": [
    "map_ = map(lambda x: x ** 2 +1, range(1000000))"
   ]
  },
  {
   "cell_type": "code",
   "execution_count": 68,
   "metadata": {
    "ExecuteTime": {
     "end_time": "2018-04-24T16:47:02.390765Z",
     "start_time": "2018-04-24T16:47:02.377087Z"
    }
   },
   "outputs": [
    {
     "name": "stdout",
     "output_type": "stream",
     "text": [
      "1\n",
      "2\n",
      "5\n",
      "10\n",
      "17\n",
      "26\n",
      "37\n",
      "50\n",
      "65\n",
      "82\n"
     ]
    }
   ],
   "source": [
    "count = 0\n",
    "for i in map_:\n",
    "    print(i)\n",
    "    count += 1\n",
    "    if count == 10:\n",
    "        break"
   ]
  },
  {
   "cell_type": "code",
   "execution_count": null,
   "metadata": {},
   "outputs": [],
   "source": []
  }
 ],
 "metadata": {
  "kernelspec": {
   "display_name": "Python [conda env:Anaconda3]",
   "language": "python",
   "name": "conda-env-Anaconda3-py"
  },
  "language_info": {
   "codemirror_mode": {
    "name": "ipython",
    "version": 3
   },
   "file_extension": ".py",
   "mimetype": "text/x-python",
   "name": "python",
   "nbconvert_exporter": "python",
   "pygments_lexer": "ipython3",
   "version": "3.6.3"
  },
  "toc": {
   "nav_menu": {},
   "number_sections": true,
   "sideBar": true,
   "skip_h1_title": false,
   "title_cell": "Table of Contents",
   "title_sidebar": "Contents",
   "toc_cell": false,
   "toc_position": {},
   "toc_section_display": true,
   "toc_window_display": false
  },
  "varInspector": {
   "cols": {
    "lenName": 16,
    "lenType": 16,
    "lenVar": 40
   },
   "kernels_config": {
    "python": {
     "delete_cmd_postfix": "",
     "delete_cmd_prefix": "del ",
     "library": "var_list.py",
     "varRefreshCmd": "print(var_dic_list())"
    },
    "r": {
     "delete_cmd_postfix": ") ",
     "delete_cmd_prefix": "rm(",
     "library": "var_list.r",
     "varRefreshCmd": "cat(var_dic_list()) "
    }
   },
   "types_to_exclude": [
    "module",
    "function",
    "builtin_function_or_method",
    "instance",
    "_Feature"
   ],
   "window_display": false
  }
 },
 "nbformat": 4,
 "nbformat_minor": 2
}
