{
 "cells": [
  {
   "cell_type": "markdown",
   "metadata": {},
   "source": [
    "<img src=\"http://imgur.com/1ZcRyrc.png\" style=\"float: left; margin: 20px; height: 55px\">\n",
    "\n",
    "\n",
    "# List Comprehensions and Iteration Review\n",
    "\n",
    "_Author: Matt Speck - DC_\n",
    "\n",
    "## What is an 'iterable'?\n",
    "\n",
    "\"An object capable of returning its members one at a time\" [source](https://docs.python.org/3/glossary.html#term-iterable)\n",
    "\n",
    "What are examples of iterables we've seen?  \n",
    "\n",
    "<details>\n",
    "- lists  \n",
    "- strings  \n",
    "- tuples  \n",
    "- dictionaries**\n",
    "</details>\n",
    "\n",
    "What makes dictionaries different from the other data types in the previous list?\n",
    "\n",
    "<!---\n",
    "Dictionaries are not sequential and therefore we cannot index them the same way we would the other three types.\n",
    "--->\n",
    "\n",
    "## Indexing\n",
    "\n",
    "A general rule in Python is that if you want to access the value at a given index of any iterable, you use brackets `[]` with the index value inside.\n",
    "\n",
    "Let's look at an example:"
   ]
  },
  {
   "cell_type": "code",
   "execution_count": null,
   "metadata": {
    "ExecuteTime": {
     "end_time": "2018-01-18T17:22:04.360000Z",
     "start_time": "2018-01-18T17:22:04.355827Z"
    },
    "collapsed": true
   },
   "outputs": [],
   "source": [
    "pets = ['cat','dog','hamster','ferret','fish']"
   ]
  },
  {
   "cell_type": "markdown",
   "metadata": {},
   "source": [
    "How would I access the value `'hamster'`?"
   ]
  },
  {
   "cell_type": "code",
   "execution_count": null,
   "metadata": {
    "collapsed": true
   },
   "outputs": [],
   "source": []
  },
  {
   "cell_type": "markdown",
   "metadata": {},
   "source": [
    "What if I want the letter `t` within hamster?"
   ]
  },
  {
   "cell_type": "code",
   "execution_count": null,
   "metadata": {
    "collapsed": true
   },
   "outputs": [],
   "source": []
  },
  {
   "cell_type": "markdown",
   "metadata": {},
   "source": [
    "### Dictionary indexing\n",
    "\n",
    "Dictionaries are indexed in a very similar way to the other iterables, but we don't have ordered (sequential) indexes. Instead, we access values by indexing their associated keys. We'll still use `[]` brackets to specify the key we're looking for."
   ]
  },
  {
   "cell_type": "code",
   "execution_count": null,
   "metadata": {
    "ExecuteTime": {
     "end_time": "2018-01-18T17:20:36.513638Z",
     "start_time": "2018-01-18T17:20:36.510594Z"
    },
    "collapsed": true
   },
   "outputs": [],
   "source": [
    "esp_nums = {'one':'uno','two':'dos','three':'tres','four':'quatro', 'five':'cinco'}"
   ]
  },
  {
   "cell_type": "code",
   "execution_count": null,
   "metadata": {
    "collapsed": true
   },
   "outputs": [],
   "source": []
  },
  {
   "cell_type": "markdown",
   "metadata": {},
   "source": [
    "## For Loops and List Comprehensions\n",
    "\n",
    "The `for` statement is used to iterate over the elements of a sequence. It's used when you have a piece of code which you want to repeat *n* number of times. You can use any **iterable** object (such as strings, arrays, lists, tuples, dict and so on) in a for loop in Python.\n",
    "\n",
    "Python’s for statement iterates over the items of any sequence (a list or a string), in the order that they appear in the sequence.\n",
    "\n",
    "The syntax for a for loop is indicated below:\n",
    "\n",
    "```python\n",
    "for iterable_member in iterable:\n",
    "    output expression\n",
    "```\n",
    "\n",
    "> If I wanted to print out each individual letter of every pet, what code would I write?"
   ]
  },
  {
   "cell_type": "code",
   "execution_count": null,
   "metadata": {
    "ExecuteTime": {
     "end_time": "2018-01-18T17:22:17.424107Z",
     "start_time": "2018-01-18T17:22:17.417201Z"
    }
   },
   "outputs": [],
   "source": []
  },
  {
   "cell_type": "markdown",
   "metadata": {},
   "source": [
    "What if I wanted a blank line after every pet?"
   ]
  },
  {
   "cell_type": "code",
   "execution_count": null,
   "metadata": {
    "ExecuteTime": {
     "end_time": "2018-01-18T17:23:36.212646Z",
     "start_time": "2018-01-18T17:23:36.204164Z"
    }
   },
   "outputs": [],
   "source": []
  },
  {
   "cell_type": "markdown",
   "metadata": {},
   "source": [
    "### List Comprehensions\n",
    "\n",
    "Below is the most basic format of a list comprehension\n",
    "\n",
    "![](./Assets/second.png \"Title\")\n",
    "\n",
    "Essentially:\n",
    "\n",
    "### [Output | `for` statement]"
   ]
  },
  {
   "cell_type": "code",
   "execution_count": null,
   "metadata": {
    "ExecuteTime": {
     "end_time": "2018-01-18T18:34:29.850866Z",
     "start_time": "2018-01-18T18:34:29.832406Z"
    }
   },
   "outputs": [],
   "source": []
  },
  {
   "cell_type": "markdown",
   "metadata": {},
   "source": [
    "## Conditional logic in list comprehensions  \n",
    "\n",
    "<img src= http://python-3-patterns-idioms-test.readthedocs.io/en/latest/_images/listComprehensions.gif>"
   ]
  },
  {
   "cell_type": "markdown",
   "metadata": {},
   "source": [
    "### Filtering\n",
    "\n",
    "### [Output | `for` statement | `if` statement *(right side to filter)*]"
   ]
  },
  {
   "cell_type": "code",
   "execution_count": null,
   "metadata": {
    "ExecuteTime": {
     "end_time": "2018-01-18T17:32:22.952930Z",
     "start_time": "2018-01-18T17:32:22.939281Z"
    }
   },
   "outputs": [],
   "source": [
    "nums = [1,4,1,5,8,0,7,5,3,6,]\n",
    "\n"
   ]
  },
  {
   "cell_type": "markdown",
   "metadata": {},
   "source": [
    "### [ Output 1 | `if` statement | `else` | Output 2 |  `for` statement] \n",
    "\n",
    "**Note**: You can have multiple `if-else` statements but _not_ `elif` statements"
   ]
  },
  {
   "cell_type": "code",
   "execution_count": null,
   "metadata": {
    "collapsed": true
   },
   "outputs": [],
   "source": []
  }
 ],
 "metadata": {
  "kernelspec": {
   "display_name": "Python [conda env:Anaconda3]",
   "language": "python",
   "name": "conda-env-Anaconda3-py"
  },
  "language_info": {
   "codemirror_mode": {
    "name": "ipython",
    "version": 3
   },
   "file_extension": ".py",
   "mimetype": "text/x-python",
   "name": "python",
   "nbconvert_exporter": "python",
   "pygments_lexer": "ipython3",
   "version": "3.6.3"
  },
  "toc": {
   "nav_menu": {},
   "number_sections": true,
   "sideBar": true,
   "skip_h1_title": false,
   "title_cell": "Table of Contents",
   "title_sidebar": "Contents",
   "toc_cell": false,
   "toc_position": {},
   "toc_section_display": true,
   "toc_window_display": false
  },
  "varInspector": {
   "cols": {
    "lenName": 16,
    "lenType": 16,
    "lenVar": 40
   },
   "kernels_config": {
    "python": {
     "delete_cmd_postfix": "",
     "delete_cmd_prefix": "del ",
     "library": "var_list.py",
     "varRefreshCmd": "print(var_dic_list())"
    },
    "r": {
     "delete_cmd_postfix": ") ",
     "delete_cmd_prefix": "rm(",
     "library": "var_list.r",
     "varRefreshCmd": "cat(var_dic_list()) "
    }
   },
   "types_to_exclude": [
    "module",
    "function",
    "builtin_function_or_method",
    "instance",
    "_Feature"
   ],
   "window_display": false
  }
 },
 "nbformat": 4,
 "nbformat_minor": 2
}
